{
 "cells": [
  {
   "cell_type": "code",
   "execution_count": 3,
   "metadata": {},
   "outputs": [],
   "source": [
    "from minio import Minio"
   ]
  },
  {
   "cell_type": "code",
   "execution_count": 4,
   "metadata": {},
   "outputs": [],
   "source": [
    "client = Minio(endpoint=\"play.min.io\",\n",
    "            access_key=\"Q3AM3UQ867SPQQA43P2F\",\n",
    "            secret_key=\"zuf+tfteSlswRu7BJ86wekitnifILbZam1KYY3TG\")"
   ]
  },
  {
   "cell_type": "code",
   "execution_count": 5,
   "metadata": {},
   "outputs": [
    {
     "name": "stdout",
     "output_type": "stream",
     "text": [
      "387\n"
     ]
    }
   ],
   "source": [
    "#print number of buckets \n",
    "print(len(client.list_buckets()))"
   ]
  },
  {
   "cell_type": "code",
   "execution_count": 6,
   "metadata": {},
   "outputs": [],
   "source": [
    "#bucket name\n",
    "new_bucket = \"empty-bucket\""
   ]
  },
  {
   "cell_type": "code",
   "execution_count": 7,
   "metadata": {},
   "outputs": [],
   "source": [
    "#create a new empty bucket\n",
    "client.make_bucket(new_bucket)"
   ]
  },
  {
   "cell_type": "code",
   "execution_count": 8,
   "metadata": {},
   "outputs": [
    {
     "name": "stdout",
     "output_type": "stream",
     "text": [
      "this  empty-bucket  exists\n"
     ]
    }
   ],
   "source": [
    "#check if bucket exists\n",
    "if client.bucket_exists(new_bucket):\n",
    "    print(\"this \", new_bucket, \" exists\")\n",
    "else:\n",
    "    print(\"this \", new_bucket, \" does not exists\")"
   ]
  },
  {
   "cell_type": "code",
   "execution_count": 9,
   "metadata": {},
   "outputs": [
    {
     "name": "stdout",
     "output_type": "stream",
     "text": [
      "bucket deleted\n"
     ]
    }
   ],
   "source": [
    "#if the bucket exists and if its empty, then remove it \n",
    "if client.bucket_exists(new_bucket):\n",
    "    client.remove_bucket(new_bucket)\n",
    "    print(\"bucket deleted\")"
   ]
  },
  {
   "cell_type": "code",
   "execution_count": 11,
   "metadata": {},
   "outputs": [
    {
     "name": "stdout",
     "output_type": "stream",
     "text": [
      "bucket does not exist, but now it is created\n"
     ]
    }
   ],
   "source": [
    "#if bucket does not exist, then create it\n",
    "new_bucket_name = \"eeeeee\"\n",
    "\n",
    "if not client.bucket_exists(new_bucket_name):\n",
    "    client.make_bucket(new_bucket_name)\n",
    "    print(\"bucket does not exist, but now it is created\")\n",
    "else:\n",
    "    print(\"bucket already exist\")"
   ]
  },
  {
   "cell_type": "code",
   "execution_count": 31,
   "metadata": {},
   "outputs": [
    {
     "name": "stdout",
     "output_type": "stream",
     "text": [
      "None\n",
      "None\n",
      "None\n",
      "None\n",
      "None\n",
      "None\n",
      "None\n",
      "None\n",
      "None\n",
      "None\n"
     ]
    }
   ],
   "source": [
    "bucket_name = \"bucket-100k\"\n",
    "\n",
    "objects = client.list_objects(bucket_name=bucket_name)\n",
    "\n",
    "for obj in objects:\n",
    "    print(obj)"
   ]
  },
  {
   "cell_type": "code",
   "execution_count": 23,
   "metadata": {},
   "outputs": [
    {
     "data": {
      "text/plain": [
       "<minio.datatypes.Object at 0x1ba5750bc10>"
      ]
     },
     "execution_count": 23,
     "metadata": {},
     "output_type": "execute_result"
    }
   ],
   "source": [
    "client.fget_object(\"bucket\", \"object-name\", \"object_name\")"
   ]
  },
  {
   "cell_type": "code",
   "execution_count": 41,
   "metadata": {},
   "outputs": [
    {
     "name": "stdout",
     "output_type": "stream",
     "text": [
      "file uploaded\n"
     ]
    }
   ],
   "source": [
    "object_name = \"john_doe_info.json\"\n",
    "file_path = \"john_doe.json\"\n",
    "\n",
    "object_name_2 = \"sha.json\"\n",
    "object_name_2 = \"sha.json\"\n",
    "\n",
    "object_name_3 = \"test_file.docx\"\n",
    "file_path_3 = \"test_file.docx\"\n",
    "\n",
    "# client.fput_object(new_bucket_name,object_name,file_path)\n",
    "# client.fput_object(new_bucket_name,object_name_2,object_name_2)\n",
    "client.fput_object(new_bucket_name,object_name_3,file_path_3)\n",
    "\n",
    "print(\"file uploaded\")"
   ]
  },
  {
   "cell_type": "code",
   "execution_count": 33,
   "metadata": {},
   "outputs": [
    {
     "name": "stdout",
     "output_type": "stream",
     "text": [
      "10\n"
     ]
    }
   ],
   "source": [
    "result = client.stat_object(\"4rfyogpd1ejpyjaexxfome35\",\"test.txt\")\n",
    "\n",
    "print(result.size)"
   ]
  },
  {
   "cell_type": "code",
   "execution_count": 38,
   "metadata": {},
   "outputs": [
    {
     "name": "stdout",
     "output_type": "stream",
     "text": [
      "337\n"
     ]
    }
   ],
   "source": [
    "result = client.stat_object(new_bucket_name,object_name)\n",
    "\n",
    "print(result.size)"
   ]
  },
  {
   "cell_type": "code",
   "execution_count": 40,
   "metadata": {},
   "outputs": [],
   "source": [
    "client.remove_object(\"4rfyogpd1ejpyjaexxfome35\",\"test.txt\")\n",
    "client.remove_object(\"eeeeee\",\"john_doe_info.json\")"
   ]
  }
 ],
 "metadata": {
  "kernelspec": {
   "display_name": ".venv",
   "language": "python",
   "name": "python3"
  },
  "language_info": {
   "codemirror_mode": {
    "name": "ipython",
    "version": 3
   },
   "file_extension": ".py",
   "mimetype": "text/x-python",
   "name": "python",
   "nbconvert_exporter": "python",
   "pygments_lexer": "ipython3",
   "version": "3.10.8"
  }
 },
 "nbformat": 4,
 "nbformat_minor": 2
}
